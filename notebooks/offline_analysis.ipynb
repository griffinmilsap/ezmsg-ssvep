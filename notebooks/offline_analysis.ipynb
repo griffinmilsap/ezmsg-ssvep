{
 "cells": [
  {
   "cell_type": "code",
   "execution_count": 1,
   "metadata": {},
   "outputs": [],
   "source": [
    "from pathlib import Path\n",
    "\n",
    "import ezmsg.core as ez\n",
    "\n",
    "from ezmsg.util.messagelogger import MessageLoader, MessageLoaderSettings\n",
    "\n",
    "from ezmsg.sigproc.sampler import SampleMessage\n"
   ]
  },
  {
   "cell_type": "code",
   "execution_count": 2,
   "metadata": {},
   "outputs": [
    {
     "name": "stderr",
     "output_type": "stream",
     "text": [
      "2023-02-24 16:52:38.163 - pid: 18496 - TaskThread - INFO - ensure_running: Started SHMServer. PID:18535@127.0.0.1:25979\n",
      "2023-02-24 16:52:38.254 - pid: 18496 - TaskThread - INFO - ensure_running: Started GraphServer. PID:18536@127.0.0.1:25978\n",
      "2023-02-24 16:52:38.291 - pid: 18496 - TaskThread - INFO - pub_messages: Replayed 20 messages from /Users/milsagw1/ssvep_data/SSVEP_S1/15Hzx20_20230224T165259.txt\n",
      "2023-02-24 16:52:38.292 - pid: 18496 - TaskThread - INFO - wrapped_task: MessageLoader/REPLAY:pub_messages Complete\n",
      "2023-02-24 16:52:38.293 - pid: 18496 - TaskThread - INFO - wrapped_task: Normal Termination raised in MessageLoader/COLLECTOR:on_total\n",
      "2023-02-24 16:52:38.294 - pid: 18496 - MainThread - INFO - run: All processes exited normally\n",
      "2023-02-24 16:52:38.299 - pid: 18496 - TaskThread - INFO - _shutdown_servers: Terminating GraphServer\n",
      "2023-02-24 16:52:38.308 - pid: 18496 - TaskThread - INFO - _shutdown_servers: Terminating SHMServer\n"
     ]
    }
   ],
   "source": [
    "data_dir = Path.home() / 'ssvep_data'\n",
    "data_fname = data_dir / 'SSVEP_S1' / '15Hzx20_20230224T165259.txt'\n",
    "\n",
    "loader = MessageLoader(\n",
    "    MessageLoaderSettings(\n",
    "        data_fname, \n",
    "        message_types = [\n",
    "            SampleMessage\n",
    "        ]\n",
    "    )\n",
    ")\n",
    "\n",
    "ez.run(loader, force_single_process = True)"
   ]
  },
  {
   "cell_type": "code",
   "execution_count": 4,
   "metadata": {},
   "outputs": [
    {
     "data": {
      "text/plain": [
       "SampleMessage(trigger={'timestamp': 1677257655.1850731, 'period': [-4, 4], 'value': '15Hz'}, sample={'data': array([[ 5.24365388e-06,  1.73439368e-06,  4.24410197e-06, ...,\n",
       "         1.32546308e-05,  6.13696048e-06, -1.69762784e-06],\n",
       "       [-2.55207532e-05,  2.25373738e-05,  1.97563200e-05, ...,\n",
       "         2.89788130e-06,  1.50227883e-05, -3.84415503e-05],\n",
       "       [-1.27966514e-05,  1.97460095e-06, -5.60069951e-06, ...,\n",
       "        -9.77472515e-06, -2.46430905e-06, -3.57398842e-06],\n",
       "       ...,\n",
       "       [ 3.98229904e-06, -1.49303775e-05, -1.34074776e-05, ...,\n",
       "        -1.22179343e-05, -1.42519329e-05,  1.64109329e-05],\n",
       "       [ 2.70768009e-05, -1.73675824e-05, -1.29378269e-05, ...,\n",
       "         4.61571299e-06, -1.14906127e-05,  3.94293258e-05],\n",
       "       [ 4.16664982e-07,  1.40858952e-05,  1.73238748e-05, ...,\n",
       "         1.12792923e-05,  9.10872558e-06, -5.75431143e-06]]), 'dims': ['time', 'ch'], 'axes': {'time': {'unit': 's', 'gain': 0.004, 'offset': 1677257651.1497278}, 'ch': {'unit': '', 'gain': 1.0, 'offset': 0.0}}, 'ch_names': ['Ch1', 'Ch2', 'Ch3', 'Ch4', 'Ch5', 'Ch6', 'Ch7', 'Ch8']})"
      ]
     },
     "execution_count": 4,
     "metadata": {},
     "output_type": "execute_result"
    }
   ],
   "source": [
    "loader.messages[0]"
   ]
  },
  {
   "cell_type": "code",
   "execution_count": null,
   "metadata": {},
   "outputs": [],
   "source": []
  }
 ],
 "metadata": {
  "kernelspec": {
   "display_name": "env",
   "language": "python",
   "name": "python3"
  },
  "language_info": {
   "codemirror_mode": {
    "name": "ipython",
    "version": 3
   },
   "file_extension": ".py",
   "mimetype": "text/x-python",
   "name": "python",
   "nbconvert_exporter": "python",
   "pygments_lexer": "ipython3",
   "version": "3.9.6"
  },
  "orig_nbformat": 4,
  "vscode": {
   "interpreter": {
    "hash": "e5200a07a7ac38b24159c1087f00b2b3ecd50a3d46b555c11c4d297e65fb4271"
   }
  }
 },
 "nbformat": 4,
 "nbformat_minor": 2
}
