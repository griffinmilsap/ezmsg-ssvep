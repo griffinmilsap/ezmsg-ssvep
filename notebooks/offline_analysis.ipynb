{
 "cells": [
  {
   "cell_type": "code",
   "execution_count": 1,
   "metadata": {},
   "outputs": [],
   "source": [
    "from pathlib import Path\n",
    "\n",
    "import numpy as np\n",
    "import ezmsg.core as ez\n",
    "import matplotlib.pyplot as plt\n",
    "\n",
    "from ezmsg.util.messages.axisarray import AxisArray\n",
    "from ezmsg.util.terminate import TerminateOnTotal\n",
    "from ezmsg.util.messagereplay import (\n",
    "    MessageReplay, \n",
    "    MessageReplaySettings,\n",
    "    MessageCollector\n",
    ")\n",
    "\n",
    "from ezmsg.ssvep.spectralstats import SpectralStats, SpectralStatsSettings\n",
    "\n",
    "from typing import List, Any"
   ]
  },
  {
   "cell_type": "code",
   "execution_count": 2,
   "metadata": {},
   "outputs": [],
   "source": [
    "class OfflineStatsSettings(ez.Settings):\n",
    "    replay_settings: MessageReplaySettings\n",
    "    stats_settings: SpectralStatsSettings\n",
    "\n",
    "\n",
    "class OfflineStats(ez.Collection):\n",
    "    SETTINGS: OfflineStatsSettings\n",
    "\n",
    "    REPLAY = MessageReplay()\n",
    "    STATS = SpectralStats()\n",
    "    COLLECTOR = MessageCollector()\n",
    "    TERM = TerminateOnTotal()\n",
    "\n",
    "    def configure(self) -> None:\n",
    "        self.REPLAY.apply_settings(self.SETTINGS.replay_settings)\n",
    "        self.STATS.apply_settings(self.SETTINGS.stats_settings)\n",
    "\n",
    "    def network(self) -> ez.NetworkDefinition:\n",
    "        return (\n",
    "            (self.REPLAY.OUTPUT_MESSAGE, self.STATS.INPUT_SAMPLE),\n",
    "            (self.STATS.OUTPUT_STATS, self.COLLECTOR.INPUT_MESSAGE),\n",
    "            (self.COLLECTOR.OUTPUT_MESSAGE, self.TERM.INPUT_MESSAGE),\n",
    "            (self.REPLAY.OUTPUT_TOTAL, self.TERM.INPUT_TOTAL),\n",
    "        )\n",
    "    \n",
    "    @property\n",
    "    def output(self) -> List[Any]:\n",
    "        return self.COLLECTOR.messages"
   ]
  },
  {
   "cell_type": "code",
   "execution_count": null,
   "metadata": {},
   "outputs": [],
   "source": [
    "data_dir = Path.home() / 'ssvep_data'\n",
    "\n",
    "for data_fname in (data_dir / 'SSVEP_S5').glob('*.txt'):\n",
    "\n",
    "    settings = OfflineStatsSettings(\n",
    "        replay_settings = MessageReplaySettings(\n",
    "            filename = data_fname\n",
    "        ),\n",
    "        stats_settings = SpectralStatsSettings(\n",
    "            time_axis = 'time',\n",
    "            freq_axis = 'freq',\n",
    "            freq_range = slice(0.0, 50.0),\n",
    "            integration_time = 4.0,\n",
    "            multiple_comparisons = False,\n",
    "        )\n",
    "    )\n",
    "\n",
    "    system = OfflineStats(settings)\n",
    "\n",
    "    ez.run(system, force_single_process = True)\n",
    "\n",
    "    stats: AxisArray = system.output[-1]\n",
    "    freq_axis = 'freq'\n",
    "    axis = stats.get_axis(freq_axis)\n",
    "    axis_idx = stats.get_axis_idx(freq_axis)\n",
    "    freqs = (np.arange(stats.shape[axis_idx]) * axis.gain) + axis.offset\n",
    "    num_tests = np.prod(stats.shape)\n",
    "\n",
    "    fig, ax = plt.subplots()\n",
    "    with stats.view2d(freq_axis) as view:\n",
    "        for ch in range(view.shape[1]):\n",
    "            ax.plot(freqs, view[:, ch], label = f'Ch{ch+1}')\n",
    "\n",
    "    for thresh, color in zip([0.05, 0.01, 0.001], ['red', 'orange', 'green']):\n",
    "        xthresh = -np.log10(thresh / num_tests)\n",
    "        ax.axhline(xthresh, color = color)\n",
    "        ax.annotate(f'p = {thresh}', (1, xthresh), va = 'bottom', color = color)\n",
    "\n",
    "    ax.legend()\n",
    "\n",
    "    ax.set_xlabel('Freq (Hz)')\n",
    "    ax.set_ylabel(r'$-\\log_{10}(p)$')\n",
    "    ax.grid(True, which = 'both')\n",
    "    ax.set_xlim( 0, 50.0 )\n",
    "\n",
    "    ax.set_title(data_fname.stem)"
   ]
  }
 ],
 "metadata": {
  "kernelspec": {
   "display_name": "env",
   "language": "python",
   "name": "python3"
  },
  "language_info": {
   "codemirror_mode": {
    "name": "ipython",
    "version": 3
   },
   "file_extension": ".py",
   "mimetype": "text/x-python",
   "name": "python",
   "nbconvert_exporter": "python",
   "pygments_lexer": "ipython3",
   "version": "3.9.6"
  },
  "orig_nbformat": 4,
  "vscode": {
   "interpreter": {
    "hash": "e5200a07a7ac38b24159c1087f00b2b3ecd50a3d46b555c11c4d297e65fb4271"
   }
  }
 },
 "nbformat": 4,
 "nbformat_minor": 2
}
