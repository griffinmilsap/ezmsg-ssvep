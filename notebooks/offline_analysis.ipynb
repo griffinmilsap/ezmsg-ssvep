{
 "cells": [
  {
   "cell_type": "code",
   "execution_count": 1,
   "metadata": {},
   "outputs": [],
   "source": [
    "from pathlib import Path\n",
    "\n",
    "from ezmsg.util.messagelogger import message_log\n"
   ]
  },
  {
   "cell_type": "code",
   "execution_count": 2,
   "metadata": {},
   "outputs": [
    {
     "name": "stdout",
     "output_type": "stream",
     "text": [
      "<class 'ezmsg.sigproc.sampler.SampleMessage'>\n",
      "<class 'ezmsg.sigproc.sampler.SampleMessage'>\n",
      "<class 'ezmsg.sigproc.sampler.SampleMessage'>\n",
      "<class 'ezmsg.sigproc.sampler.SampleMessage'>\n",
      "<class 'ezmsg.sigproc.sampler.SampleMessage'>\n",
      "<class 'ezmsg.sigproc.sampler.SampleMessage'>\n",
      "<class 'ezmsg.sigproc.sampler.SampleMessage'>\n",
      "<class 'ezmsg.sigproc.sampler.SampleMessage'>\n",
      "<class 'ezmsg.sigproc.sampler.SampleMessage'>\n",
      "<class 'ezmsg.sigproc.sampler.SampleMessage'>\n",
      "<class 'ezmsg.sigproc.sampler.SampleMessage'>\n",
      "<class 'ezmsg.sigproc.sampler.SampleMessage'>\n",
      "<class 'ezmsg.sigproc.sampler.SampleMessage'>\n",
      "<class 'ezmsg.sigproc.sampler.SampleMessage'>\n",
      "<class 'ezmsg.sigproc.sampler.SampleMessage'>\n",
      "<class 'ezmsg.sigproc.sampler.SampleMessage'>\n",
      "<class 'ezmsg.sigproc.sampler.SampleMessage'>\n",
      "<class 'ezmsg.sigproc.sampler.SampleMessage'>\n",
      "<class 'ezmsg.sigproc.sampler.SampleMessage'>\n",
      "<class 'ezmsg.sigproc.sampler.SampleMessage'>\n"
     ]
    }
   ],
   "source": [
    "data_dir = Path.home() / 'ssvep_data'\n",
    "data_fname = data_dir / 'SSVEP_S1' / '15Hzx20_20230224T165259.txt'\n",
    "\n",
    "for msg in message_log(data_fname):\n",
    "    print(type(msg))"
   ]
  },
  {
   "cell_type": "code",
   "execution_count": null,
   "metadata": {},
   "outputs": [],
   "source": []
  }
 ],
 "metadata": {
  "kernelspec": {
   "display_name": "env",
   "language": "python",
   "name": "python3"
  },
  "language_info": {
   "codemirror_mode": {
    "name": "ipython",
    "version": 3
   },
   "file_extension": ".py",
   "mimetype": "text/x-python",
   "name": "python",
   "nbconvert_exporter": "python",
   "pygments_lexer": "ipython3",
   "version": "3.9.6"
  },
  "orig_nbformat": 4,
  "vscode": {
   "interpreter": {
    "hash": "e5200a07a7ac38b24159c1087f00b2b3ecd50a3d46b555c11c4d297e65fb4271"
   }
  }
 },
 "nbformat": 4,
 "nbformat_minor": 2
}
